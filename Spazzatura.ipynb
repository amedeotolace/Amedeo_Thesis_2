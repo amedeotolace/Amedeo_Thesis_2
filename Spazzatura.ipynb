{
 "cells": [
  {
   "cell_type": "code",
   "execution_count": null,
   "metadata": {},
   "outputs": [
    {
     "ename": "AssertionError",
     "evalue": "Dataset kddcup99: could not find data in C:\\Users\\amede\\Documents\\kdd_notebook\\kddcup.data_10_percent.gz. Please make sure to call dataset_builder.download_and_prepare(), or pass download=True to tfds.load() before trying to access the tf.data.Dataset object.",
     "output_type": "error",
     "traceback": [
      "\u001b[1;31m---------------------------------------------------------------------------\u001b[0m\n",
      "\u001b[1;31mAssertionError\u001b[0m                            Traceback (most recent call last)\n",
      "\u001b[1;32mc:\\Users\\amede\\Documents\\Github\\Amedeo_Thesis_2\\Notebook_Amedeo.ipynb Cell 1\u001b[0m line \u001b[0;36m1\n",
      "\u001b[0;32m     <a href='vscode-notebook-cell:/c%3A/Users/amede/Documents/Github/Amedeo_Thesis_2/Notebook_Amedeo.ipynb#W0sZmlsZQ%3D%3D?line=11'>12</a>\u001b[0m TEST \u001b[39m=\u001b[39m \u001b[39m'\u001b[39m\u001b[39mC:/Users/amede/Documents/kddcup99/kdd+cup+1999+data/corrected.gz\u001b[39m\u001b[39m'\u001b[39m\n",
      "\u001b[0;32m     <a href='vscode-notebook-cell:/c%3A/Users/amede/Documents/Github/Amedeo_Thesis_2/Notebook_Amedeo.ipynb#W0sZmlsZQ%3D%3D?line=12'>13</a>\u001b[0m ALL_PURPOSES \u001b[39m=\u001b[39m \u001b[39m'\u001b[39m\u001b[39mC:/Users/amede/Documents/kdd_notebook/kddcup.data_10_percent.gz\u001b[39m\u001b[39m'\u001b[39m\n",
      "\u001b[1;32m---> <a href='vscode-notebook-cell:/c%3A/Users/amede/Documents/Github/Amedeo_Thesis_2/Notebook_Amedeo.ipynb#W0sZmlsZQ%3D%3D?line=14'>15</a>\u001b[0m ds_train, ds_test \u001b[39m=\u001b[39m tfds\u001b[39m.\u001b[39mload(\u001b[39m'\u001b[39m\u001b[39mkddcup99\u001b[39m\u001b[39m'\u001b[39m, split\u001b[39m=\u001b[39m[\u001b[39m'\u001b[39m\u001b[39mtrain\u001b[39m\u001b[39m'\u001b[39m, \u001b[39m'\u001b[39m\u001b[39mtest\u001b[39m\u001b[39m'\u001b[39m], download\u001b[39m=\u001b[39m\u001b[39mFalse\u001b[39;00m, data_dir\u001b[39m=\u001b[39mALL_PURPOSES)\n",
      "\u001b[0;32m     <a href='vscode-notebook-cell:/c%3A/Users/amede/Documents/Github/Amedeo_Thesis_2/Notebook_Amedeo.ipynb#W0sZmlsZQ%3D%3D?line=15'>16</a>\u001b[0m \u001b[39m#assert isinstance(ds_train, tf.data.Dataset)\u001b[39;00m\n",
      "\u001b[0;32m     <a href='vscode-notebook-cell:/c%3A/Users/amede/Documents/Github/Amedeo_Thesis_2/Notebook_Amedeo.ipynb#W0sZmlsZQ%3D%3D?line=16'>17</a>\u001b[0m \u001b[39m#assert isinstance(ds_test, tf.data.Dataset)\u001b[39;00m\n",
      "\u001b[0;32m     <a href='vscode-notebook-cell:/c%3A/Users/amede/Documents/Github/Amedeo_Thesis_2/Notebook_Amedeo.ipynb#W0sZmlsZQ%3D%3D?line=17'>18</a>\u001b[0m \u001b[39m#print(ds_train)\u001b[39;00m\n",
      "\u001b[0;32m     <a href='vscode-notebook-cell:/c%3A/Users/amede/Documents/Github/Amedeo_Thesis_2/Notebook_Amedeo.ipynb#W0sZmlsZQ%3D%3D?line=18'>19</a>\u001b[0m \u001b[39mprint\u001b[39m(ds_train, ds_test)\n",
      "\n",
      "File \u001b[1;32mc:\\Users\\amede\\anaconda3\\Lib\\site-packages\\tensorflow_datasets\\core\\logging\\__init__.py:168\u001b[0m, in \u001b[0;36m_FunctionDecorator.__call__\u001b[1;34m(self, function, instance, args, kwargs)\u001b[0m\n",
      "\u001b[0;32m    166\u001b[0m metadata \u001b[39m=\u001b[39m \u001b[39mself\u001b[39m\u001b[39m.\u001b[39m_start_call()\n",
      "\u001b[0;32m    167\u001b[0m \u001b[39mtry\u001b[39;00m:\n",
      "\u001b[1;32m--> 168\u001b[0m   \u001b[39mreturn\u001b[39;00m function(\u001b[39m*\u001b[39margs, \u001b[39m*\u001b[39m\u001b[39m*\u001b[39mkwargs)\n",
      "\u001b[0;32m    169\u001b[0m \u001b[39mexcept\u001b[39;00m \u001b[39mException\u001b[39;00m:\n",
      "\u001b[0;32m    170\u001b[0m   metadata\u001b[39m.\u001b[39mmark_error()\n",
      "\n",
      "File \u001b[1;32mc:\\Users\\amede\\anaconda3\\Lib\\site-packages\\tensorflow_datasets\\core\\load.py:651\u001b[0m, in \u001b[0;36mload\u001b[1;34m(name, split, data_dir, batch_size, shuffle_files, download, as_supervised, decoders, read_config, with_info, builder_kwargs, download_and_prepare_kwargs, as_dataset_kwargs, try_gcs)\u001b[0m\n",
      "\u001b[0;32m    648\u001b[0m as_dataset_kwargs\u001b[39m.\u001b[39msetdefault(\u001b[39m'\u001b[39m\u001b[39mshuffle_files\u001b[39m\u001b[39m'\u001b[39m, shuffle_files)\n",
      "\u001b[0;32m    649\u001b[0m as_dataset_kwargs\u001b[39m.\u001b[39msetdefault(\u001b[39m'\u001b[39m\u001b[39mread_config\u001b[39m\u001b[39m'\u001b[39m, read_config)\n",
      "\u001b[1;32m--> 651\u001b[0m ds \u001b[39m=\u001b[39m dbuilder\u001b[39m.\u001b[39mas_dataset(\u001b[39m*\u001b[39m\u001b[39m*\u001b[39mas_dataset_kwargs)\n",
      "\u001b[0;32m    652\u001b[0m \u001b[39mif\u001b[39;00m with_info:\n",
      "\u001b[0;32m    653\u001b[0m   \u001b[39mreturn\u001b[39;00m ds, dbuilder\u001b[39m.\u001b[39minfo\n",
      "\n",
      "File \u001b[1;32mc:\\Users\\amede\\anaconda3\\Lib\\site-packages\\tensorflow_datasets\\core\\logging\\__init__.py:168\u001b[0m, in \u001b[0;36m_FunctionDecorator.__call__\u001b[1;34m(self, function, instance, args, kwargs)\u001b[0m\n",
      "\u001b[0;32m    166\u001b[0m metadata \u001b[39m=\u001b[39m \u001b[39mself\u001b[39m\u001b[39m.\u001b[39m_start_call()\n",
      "\u001b[0;32m    167\u001b[0m \u001b[39mtry\u001b[39;00m:\n",
      "\u001b[1;32m--> 168\u001b[0m   \u001b[39mreturn\u001b[39;00m function(\u001b[39m*\u001b[39margs, \u001b[39m*\u001b[39m\u001b[39m*\u001b[39mkwargs)\n",
      "\u001b[0;32m    169\u001b[0m \u001b[39mexcept\u001b[39;00m \u001b[39mException\u001b[39;00m:\n",
      "\u001b[0;32m    170\u001b[0m   metadata\u001b[39m.\u001b[39mmark_error()\n",
      "\n",
      "File \u001b[1;32mc:\\Users\\amede\\anaconda3\\Lib\\site-packages\\tensorflow_datasets\\core\\dataset_builder.py:864\u001b[0m, in \u001b[0;36mDatasetBuilder.as_dataset\u001b[1;34m(self, split, batch_size, shuffle_files, decoders, read_config, as_supervised)\u001b[0m\n",
      "\u001b[0;32m    862\u001b[0m \u001b[39m# pylint: enable=line-too-long\u001b[39;00m\n",
      "\u001b[0;32m    863\u001b[0m \u001b[39mif\u001b[39;00m \u001b[39mnot\u001b[39;00m \u001b[39mself\u001b[39m\u001b[39m.\u001b[39mdata_path\u001b[39m.\u001b[39mexists():\n",
      "\u001b[1;32m--> 864\u001b[0m   \u001b[39mraise\u001b[39;00m \u001b[39mAssertionError\u001b[39;00m(\n",
      "\u001b[0;32m    865\u001b[0m       \u001b[39m\"\u001b[39m\u001b[39mDataset \u001b[39m\u001b[39m%s\u001b[39;00m\u001b[39m: could not find data in \u001b[39m\u001b[39m%s\u001b[39;00m\u001b[39m. Please make sure to call \u001b[39m\u001b[39m\"\u001b[39m\n",
      "\u001b[0;32m    866\u001b[0m       \u001b[39m\"\u001b[39m\u001b[39mdataset_builder.download_and_prepare(), or pass download=True to \u001b[39m\u001b[39m\"\u001b[39m\n",
      "\u001b[0;32m    867\u001b[0m       \u001b[39m\"\u001b[39m\u001b[39mtfds.load() before trying to access the tf.data.Dataset object.\u001b[39m\u001b[39m\"\u001b[39m\n",
      "\u001b[0;32m    868\u001b[0m       \u001b[39m%\u001b[39m (\u001b[39mself\u001b[39m\u001b[39m.\u001b[39mname, \u001b[39mself\u001b[39m\u001b[39m.\u001b[39mdata_dir_root)\n",
      "\u001b[0;32m    869\u001b[0m   )\n",
      "\u001b[0;32m    871\u001b[0m \u001b[39m# By default, return all splits\u001b[39;00m\n",
      "\u001b[0;32m    872\u001b[0m \u001b[39mif\u001b[39;00m split \u001b[39mis\u001b[39;00m \u001b[39mNone\u001b[39;00m:\n",
      "\n",
      "\u001b[1;31mAssertionError\u001b[0m: Dataset kddcup99: could not find data in C:\\Users\\amede\\Documents\\kdd_notebook\\kddcup.data_10_percent.gz. Please make sure to call dataset_builder.download_and_prepare(), or pass download=True to tfds.load() before trying to access the tf.data.Dataset object."
     ]
    }
   ],
   "source": [
    "import tensorflow as tf\n",
    "import tensorflow_datasets as tfds\n",
    "\n",
    "#train_ds, test_ds = tfds.load('kddcup99', split=['train[:10]', 'test[:10]'])\n",
    "\"\"\"\n",
    "(ds_train, ds_test) = tfds.load(\n",
    "    'kddcup99',\n",
    "    split=['train[:1%]', 'test[:1%]']\n",
    ")\n",
    "\"\"\"\n",
    "TRAIN = 'C:/Users/amede/Documents/kddcup99/kdd+cup+1999+data/kddcup.data.gz'\n",
    "TEST = 'C:/Users/amede/Documents/kddcup99/kdd+cup+1999+data/corrected.gz'\n",
    "ALL_PURPOSES = 'C:/Users/amede/Documents/kdd_notebook/kddcup.data_10_percent.gz'\n",
    "\n",
    "ds_train, ds_test = tfds.load('kddcup99', split=['train', 'test'], download=False, data_dir=ALL_PURPOSES)\n",
    "#assert isinstance(ds_train, tf.data.Dataset)\n",
    "#assert isinstance(ds_test, tf.data.Dataset)\n",
    "#print(ds_train)\n",
    "print(ds_train, ds_test)"
   ]
  }
 ],
 "metadata": {
  "language_info": {
   "name": "python"
  }
 },
 "nbformat": 4,
 "nbformat_minor": 2
}
